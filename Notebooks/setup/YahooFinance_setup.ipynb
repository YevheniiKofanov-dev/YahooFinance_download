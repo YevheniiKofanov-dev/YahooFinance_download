{
 "cells": [
  {
   "cell_type": "markdown",
   "metadata": {
    "application/vnd.databricks.v1+cell": {
     "cellMetadata": {
      "byteLimit": 2048000,
      "rowLimit": 10000
     },
     "inputWidgets": {},
     "nuid": "9f575cce-1372-4dfb-85db-e386107d8825",
     "showTitle": false,
     "tableResultSettingsMap": {},
     "title": ""
    }
   },
   "source": [
    "**This notebook should be run only once to create needed tables. yahoo_finance Unity catalog should be created first.**"
   ]
  },
  {
   "cell_type": "code",
   "execution_count": 0,
   "metadata": {
    "application/vnd.databricks.v1+cell": {
     "cellMetadata": {
      "byteLimit": 2048000,
      "implicitDf": true,
      "rowLimit": 10000
     },
     "inputWidgets": {},
     "nuid": "46eb3074-09e9-4ad7-8346-fd13f1f2eaf7",
     "showTitle": false,
     "tableResultSettingsMap": {},
     "title": ""
    }
   },
   "outputs": [],
   "source": [
    "%sql\n",
    "USE CATALOG yahoo_finance;\n",
    "CREATE SCHEMA IF NOT EXISTS bronze;\n",
    "CREATE SCHEMA IF NOT EXISTS silver;\n",
    "CREATE SCHEMA IF NOT EXISTS gold;\n",
    "CREATE SCHEMA IF NOT EXISTS processrunlogs;\n",
    "\n",
    "-- Table to store process run logs\n",
    "DROP TABLE IF EXISTS processrunlogs.processrunlog;\n",
    "CREATE TABLE IF NOT EXISTS processrunlogs.processrunlog (\n",
    "    id BIGINT GENERATED ALWAYS AS IDENTITY, \n",
    "    ticker STRING, \n",
    "    processname STRING, \n",
    "    last_loaded_date TIMESTAMP, \n",
    "    startdate TIMESTAMP, \n",
    "    enddate TIMESTAMP, \n",
    "    status STRING\n",
    ") USING DELTA\n",
    "LOCATION 'abfss://processrunlogs@yahoofinancestorage.dfs.core.windows.net/processrunlog';\n",
    "\n",
    "-- Table to store raw data\n",
    "DROP TABLE IF EXISTS bronze.finance_bronze;\n",
    "CREATE TABLE IF NOT EXISTS bronze.finance_bronze (\n",
    "    ticker STRING, \n",
    "    datetime STRING, \n",
    "    close STRING COMMENT 'close price', \n",
    "    high STRING COMMENT 'high price', \n",
    "    low STRING COMMENT 'low price', \n",
    "    open STRING COMMENT 'open price', \n",
    "    `volume` STRING COMMENT 'volume'\n",
    ") USING DELTA\n",
    "LOCATION 'abfss://bronze@yahoofinancestorage.dfs.core.windows.net/finance_bronze';\n",
    "\n",
    "-- Table to store transformed financial fact data with proper data types\n",
    "DROP TABLE IF EXISTS silver.finance_silver;\n",
    "CREATE TABLE IF NOT EXISTS silver.finance_silver (\n",
    "    ticker STRING,\n",
    "    date_id STRING, \n",
    "    datetime timestamp, \n",
    "    close DOUBLE COMMENT 'close price', \n",
    "    high DOUBLE COMMENT 'high price', \n",
    "    low DOUBLE COMMENT 'low price', \n",
    "    open DOUBLE COMMENT 'open price', \n",
    "    `volume` BIGINT COMMENT 'volume',\n",
    "    inserted_datetime timestamp\n",
    ") USING DELTA\n",
    "LOCATION 'abfss://silver@yahoofinancestorage.dfs.core.windows.net/finance_silver';\n",
    "\n",
    "-- Table to store transformed ticker data (companies' names)\n",
    "DROP TABLE IF EXISTS silver.ticker_silver;\n",
    "CREATE TABLE IF NOT EXISTS silver.ticker_silver (\n",
    "    ticker_id BIGINT GENERATED ALWAYS AS IDENTITY,\n",
    "    ticker STRING, \n",
    "    inserted_datetime timestamp\n",
    ") USING DELTA\n",
    "LOCATION 'abfss://silver@yahoofinancestorage.dfs.core.windows.net/ticker_silver';\n",
    "\n",
    "-- Table to store tickers dimension for reports\n",
    "DROP TABLE IF EXISTS gold.ticker_gold;\n",
    "CREATE TABLE IF NOT EXISTS gold.ticker_gold (\n",
    "    ticker_id BIGINT,\n",
    "    ticker STRING \n",
    ") USING DELTA\n",
    "LOCATION 'abfss://gold@yahoofinancestorage.dfs.core.windows.net/ticker_gold';\n",
    "\n",
    "-- Table to store detailed financial fact data for reports\n",
    "DROP TABLE IF EXISTS gold.finance_gold;\n",
    "CREATE TABLE IF NOT EXISTS gold.finance_gold (\n",
    "    ticker_id BIGINT,\n",
    "    date_id STRING, \n",
    "    datetime timestamp, \n",
    "    close DOUBLE COMMENT 'close price', \n",
    "    high DOUBLE COMMENT 'high price', \n",
    "    low DOUBLE COMMENT 'low price', \n",
    "    open DOUBLE COMMENT 'open price', \n",
    "    `volume` BIGINT COMMENT 'volume'\n",
    ") USING DELTA\n",
    "LOCATION 'abfss://gold@yahoofinancestorage.dfs.core.windows.net/finance_gold';\n",
    "\n",
    "-- Date dimension for reports\n",
    "DROP TABLE IF EXISTS gold.date_gold;\n",
    "CREATE TABLE IF NOT EXISTS gold.date_gold (\n",
    "    date_id STRING,\n",
    "    date DATE,\n",
    "    week STRING,\n",
    "    month STRING,\n",
    "    year STRING\n",
    ") USING DELTA\n",
    "LOCATION 'abfss://gold@yahoofinancestorage.dfs.core.windows.net/date_gold';\n",
    "\n",
    "-- Table to store daily aggregated financial fact data for reports\n",
    "DROP TABLE IF EXISTS gold.finance_gold_daily;\n",
    "CREATE TABLE IF NOT EXISTS gold.finance_gold_daily (\n",
    "  ticker_id BIGINT,\n",
    "  year STRING,\n",
    "  month STRING,\n",
    "  week STRING,\n",
    "  date DATE,\n",
    "  min_of_open DOUBLE,\n",
    "  max_of_close DOUBLE,\n",
    "  max_of_high DOUBLE,\n",
    "  min_of_low DOUBLE,\n",
    "  avg_of_close DOUBLE,\n",
    "  stddev_of_close DOUBLE,\n",
    "  median_of_close DOUBLE,\n",
    "  sum_of_volume BIGINT\n",
    "  )\n",
    "USING DELTA\n",
    "LOCATION 'abfss://gold@yahoofinancestorage.dfs.core.windows.net/finance_gold_daily';\n",
    "-- Table to store weekly aggregated financial fact data for reports\n",
    "DROP TABLE IF EXISTS gold.finance_gold_weekly;\n",
    "CREATE TABLE IF NOT EXISTS gold.finance_gold_weekly (\n",
    "  ticker_id BIGINT,\n",
    "  year STRING,\n",
    "  month STRING,\n",
    "  week STRING,\n",
    "  min_of_open DOUBLE,\n",
    "  max_of_close DOUBLE,\n",
    "  max_of_high DOUBLE,\n",
    "  min_of_low DOUBLE,\n",
    "  avg_of_close DOUBLE,\n",
    "  stddev_of_close DOUBLE,\n",
    "  median_of_close DOUBLE,\n",
    "  sum_of_volume BIGINT\n",
    "  )\n",
    "USING DELTA\n",
    "LOCATION 'abfss://gold@yahoofinancestorage.dfs.core.windows.net/finance_gold_weekly';\n",
    "\n",
    "-- Table to store monthly aggregated financial fact data for reports\n",
    "DROP TABLE IF EXISTS gold.finance_gold_monthly;\n",
    "CREATE TABLE IF NOT EXISTS gold.finance_gold_monthly (\n",
    "  ticker_id BIGINT,\n",
    "  year STRING,\n",
    "  month STRING,\n",
    "  min_of_open DOUBLE,\n",
    "  max_of_close DOUBLE,\n",
    "  max_of_high DOUBLE,\n",
    "  min_of_low DOUBLE,\n",
    "  avg_of_close DOUBLE,\n",
    "  stddev_of_close DOUBLE,\n",
    "  median_of_close DOUBLE,\n",
    "  sum_of_volume BIGINT\n",
    "  )\n",
    "USING DELTA\n",
    "LOCATION 'abfss://gold@yahoofinancestorage.dfs.core.windows.net/finance_gold_monthly';"
   ]
  },
  {
   "cell_type": "code",
   "execution_count": 0,
   "metadata": {
    "application/vnd.databricks.v1+cell": {
     "cellMetadata": {
      "byteLimit": 2048000,
      "rowLimit": 10000
     },
     "inputWidgets": {},
     "nuid": "6b2e950c-2fda-4a3e-b134-2e45d3df00db",
     "showTitle": false,
     "tableResultSettingsMap": {},
     "title": ""
    }
   },
   "outputs": [],
   "source": [
    "# Populate the date dimension table\n",
    "import pandas as pd\n",
    "min_date = '2025-01-01' # We will be getting data starting from this date\n",
    "max_date = '2026-12-31' # We will be getting data up to this date (should be scheduled)\n",
    "date_range = pd.date_range(start=min_date, end=max_date) # Generate date range\n",
    "dim_date = pd.DataFrame({\n",
    "   'date_id': date_range.strftime('%Y%m%d'),\n",
    "   'date': date_range.date,\n",
    "   'week': date_range.strftime('%U'),\n",
    "   'month': date_range.strftime('%B'),\n",
    "   'year': date_range.strftime('%Y')\n",
    "})\n",
    "dim_date_spark = spark.createDataFrame(dim_date) # Create Spark DataFrame from Pandas DataFrame\n",
    "dim_date_spark.write.mode(\"overwrite\").saveAsTable(\"yahoo_finance.gold.date_gold\") # Save to table\n"
   ]
  }
 ],
 "metadata": {
  "application/vnd.databricks.v1+notebook": {
   "computePreferences": {
    "hardware": {
     "accelerator": null,
     "gpuPoolId": null,
     "memory": null
    }
   },
   "dashboards": [],
   "environmentMetadata": {
    "base_environment": "",
    "environment_version": "2"
   },
   "inputWidgetPreferences": null,
   "language": "python",
   "notebookMetadata": {
    "mostRecentlyExecutedCommandWithImplicitDF": {
     "commandId": 3420974569914080,
     "dataframes": [
      "_sqldf"
     ]
    },
    "pythonIndentUnit": 4
   },
   "notebookName": "YahooFinance_setup",
   "widgets": {}
  },
  "language_info": {
   "name": "python"
  }
 },
 "nbformat": 4,
 "nbformat_minor": 0
}
