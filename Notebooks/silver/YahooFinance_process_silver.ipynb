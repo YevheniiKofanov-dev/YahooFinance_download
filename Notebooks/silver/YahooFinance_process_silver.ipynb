{
 "cells": [
  {
   "cell_type": "code",
   "execution_count": 0,
   "metadata": {
    "application/vnd.databricks.v1+cell": {
     "cellMetadata": {
      "byteLimit": 2048000,
      "rowLimit": 10000
     },
     "inputWidgets": {},
     "nuid": "48396957-47c4-432e-bf9f-e7dd0c0f727f",
     "showTitle": false,
     "tableResultSettingsMap": {},
     "title": ""
    }
   },
   "outputs": [],
   "source": [
    "from datetime import datetime\n",
    "start_date = datetime.now()\n",
    "start_date_str = start_date.strftime('%Y-%m-%d %H:%M:%S')"
   ]
  },
  {
   "cell_type": "code",
   "execution_count": 0,
   "metadata": {
    "application/vnd.databricks.v1+cell": {
     "cellMetadata": {
      "byteLimit": 2048000,
      "implicitDf": true,
      "rowLimit": 10000
     },
     "inputWidgets": {},
     "nuid": "9d7cdada-2366-4e83-950a-73ea8bdf7aa3",
     "showTitle": false,
     "tableResultSettingsMap": {},
     "title": ""
    }
   },
   "outputs": [],
   "source": [
    "%sql\n",
    "-- Add new tickers to silver table\n",
    "INSERT INTO yahoo_finance.silver.ticker_silver (ticker, inserted_datetime)\n",
    "SELECT DISTINCT\n",
    "  fb.ticker,\n",
    "  current_timestamp()\n",
    "FROM yahoo_finance.bronze.finance_bronze fb\n",
    "LEFT OUTER JOIN \n",
    "(SELECT l.ticker, MAX(l.last_loaded_date) AS last_loaded_date\n",
    "  FROM yahoo_finance.processrunlogs.processrunlog l \n",
    "  WHERE l.processname = 'process_silver_data' AND l.status = 'Completed' AND l.last_loaded_date IS NOT NULL\n",
    "  GROUP BY l.ticker) l2\n",
    "WHERE fb.ticker NOT IN (\n",
    "  SELECT ticker FROM yahoo_finance.gold.ticker_gold\n",
    ") AND fb.Datetime > nvl(l2.last_loaded_date, '2025-01-01');"
   ]
  },
  {
   "cell_type": "code",
   "execution_count": 0,
   "metadata": {
    "application/vnd.databricks.v1+cell": {
     "cellMetadata": {
      "byteLimit": 2048000,
      "implicitDf": true,
      "rowLimit": 10000
     },
     "inputWidgets": {},
     "nuid": "7543da68-faff-46ea-8443-d585db0ab822",
     "showTitle": false,
     "tableResultSettingsMap": {
      "0": {
       "dataGridStateBlob": "{\"version\":1,\"tableState\":{\"columnPinning\":{\"left\":[\"#row_number#\"],\"right\":[]},\"columnSizing\":{},\"columnVisibility\":{}},\"settings\":{\"columns\":{}},\"syncTimestamp\":1755531381988}",
       "filterBlob": null,
       "queryPlanFiltersBlob": null,
       "tableResultIndex": 0
      }
     },
     "title": ""
    }
   },
   "outputs": [],
   "source": [
    "%sql\n",
    "-- Convert string values to proper data types and insert newly loaded data into silver financial table\n",
    "INSERT INTO yahoo_finance.silver.finance_silver (ticker, date_id, datetime, close, high, low, open, volume, inserted_datetime)\n",
    "SELECT DISTINCT\n",
    "  fb.ticker, \n",
    "  date_format(nvl(try_cast(fb.datetime as date), '19000101'), 'yyyyMMdd') AS date_id,\n",
    "  nvl(try_cast(fb.datetime as timestamp), '1900-01-01') as datetime,\n",
    "  nvl(try_cast(fb.close as double), 0) as close,\n",
    "  nvl(try_cast(fb.high as double), 0) as high,\n",
    "  nvl(try_cast(fb.low as double), 0) as low,\n",
    "  nvl(try_cast(fb.open as double), 0) as open,\n",
    "  nvl(try_cast(fb.volume as bigint), 0) as `volume`,\n",
    "  current_timestamp() as inserted_datetime\n",
    "FROM yahoo_finance.bronze.finance_bronze fb\n",
    "LEFT OUTER JOIN \n",
    " (SELECT l.ticker, cast(MAX(l.last_loaded_date) AS STRING) AS last_loaded_date\n",
    "  FROM yahoo_finance.processrunlogs.processrunlog l \n",
    "  WHERE l.processname = 'process_silver_data' AND l.status = 'Completed' AND l.last_loaded_date IS NOT NULL\n",
    "  GROUP BY l.ticker) l2\n",
    "  ON fb.ticker = l2.ticker\n",
    "WHERE date_format(nvl(try_cast(fb.datetime as date), '1900-01-01'), 'yyyy-MM-dd') > nvl(l2.last_loaded_date, '2025-01-01');\n"
   ]
  },
  {
   "cell_type": "code",
   "execution_count": 0,
   "metadata": {
    "application/vnd.databricks.v1+cell": {
     "cellMetadata": {
      "byteLimit": 2048000,
      "implicitDf": true,
      "rowLimit": 10000
     },
     "inputWidgets": {},
     "nuid": "046787d6-b3ea-4674-8258-346cbb9b2486",
     "showTitle": false,
     "tableResultSettingsMap": {},
     "title": ""
    }
   },
   "outputs": [],
   "source": [
    "# Audit the process\n",
    "#  Get before_count - count of log rows before insertion of new rows\n",
    "before_count = spark.sql(\"\"\"\n",
    "SELECT COUNT(*) as cnt\n",
    "FROM yahoo_finance.processrunlogs.processrunlog\n",
    "WHERE processname = 'process_silver_data' AND status = 'Completed'\n",
    "\"\"\").collect()[0]['cnt']\n",
    "\n",
    "# Try inserting new log rows\n",
    "query_insert = f\"\"\"\n",
    "INSERT INTO yahoo_finance.processrunlogs.processrunlog \n",
    "(ticker, processname, last_loaded_date, startdate, enddate, status)\n",
    "SELECT f_s.ticker, 'process_silver_data' AS processname, max(f_s.datetime) AS last_loaded_date, '{start_date_str}', current_timestamp(), 'Completed'\n",
    "FROM yahoo_finance.silver.finance_silver f_s\n",
    "LEFT OUTER JOIN \n",
    "  (SELECT l.ticker, MAX(l.last_loaded_date) AS last_loaded_date\n",
    "   FROM yahoo_finance.processrunlogs.processrunlog l \n",
    "   WHERE l.processname = 'process_silver_data' AND l.status = 'Completed'\n",
    "   GROUP BY l.ticker) l2\n",
    "  ON f_s.ticker = l2.ticker\n",
    "WHERE f_s.Datetime > nvl(l2.last_loaded_date, '2025-01-01')\n",
    "GROUP BY f_s.ticker\n",
    "\"\"\"\n",
    "spark.sql(query_insert)\n",
    "\n",
    "# Get after_count - count of log rows after insertion of new rows\n",
    "after_count = spark.sql(\"\"\"\n",
    "SELECT COUNT(*) as cnt\n",
    "FROM yahoo_finance.processrunlogs.processrunlog\n",
    "WHERE processname = 'process_silver_data' AND status = 'Completed'\n",
    "\"\"\").collect()[0]['cnt']\n",
    "\n",
    "# Insert NULL row if before_count == after_count to log that no new financials were loaded\n",
    "if before_count == after_count:\n",
    "    query_null = f\"\"\"\n",
    "    INSERT INTO yahoo_finance.processrunlogs.processrunlog \n",
    "    (ticker, processname, last_loaded_date, startdate, enddate, status)\n",
    "    VALUES (NULL, 'process_silver_data', NULL, '{start_date_str}', current_timestamp(), 'Completed')\n",
    "    \"\"\"\n",
    "    spark.sql(query_null)"
   ]
  }
 ],
 "metadata": {
  "application/vnd.databricks.v1+notebook": {
   "computePreferences": {
    "hardware": {
     "accelerator": null,
     "gpuPoolId": null,
     "memory": null
    }
   },
   "dashboards": [],
   "environmentMetadata": {
    "base_environment": "",
    "environment_version": "2"
   },
   "inputWidgetPreferences": null,
   "language": "python",
   "notebookMetadata": {
    "mostRecentlyExecutedCommandWithImplicitDF": {
     "commandId": 4760622093456329,
     "dataframes": [
      "_sqldf"
     ]
    },
    "pythonIndentUnit": 4
   },
   "notebookName": "YahooFinance_process_silver",
   "widgets": {}
  },
  "language_info": {
   "name": "python"
  }
 },
 "nbformat": 4,
 "nbformat_minor": 0
}
