{
 "cells": [
  {
   "cell_type": "code",
   "execution_count": 0,
   "metadata": {
    "application/vnd.databricks.v1+cell": {
     "cellMetadata": {
      "byteLimit": 2048000,
      "rowLimit": 10000
     },
     "inputWidgets": {},
     "nuid": "19d18397-aa06-4df0-9b5d-44449d3271c6",
     "showTitle": false,
     "tableResultSettingsMap": {},
     "title": ""
    }
   },
   "outputs": [],
   "source": [
    "from datetime import datetime\n",
    "start_date = datetime.now()\n",
    "start_date_str = start_date.strftime('%Y-%m-%d %H:%M:%S')"
   ]
  },
  {
   "cell_type": "code",
   "execution_count": 0,
   "metadata": {
    "application/vnd.databricks.v1+cell": {
     "cellMetadata": {
      "byteLimit": 2048000,
      "implicitDf": true,
      "rowLimit": 10000
     },
     "inputWidgets": {},
     "nuid": "93683a95-5c56-4b75-9bae-87aa84b7ac7c",
     "showTitle": false,
     "tableResultSettingsMap": {},
     "title": ""
    }
   },
   "outputs": [],
   "source": [
    "%sql\n",
    "INSERT INTO yahoo_finance.gold.ticker_gold (ticker_id, ticker)\n",
    "SELECT ts.ticker_id, ts.ticker\n",
    "FROM yahoo_finance.silver.ticker_silver ts\n",
    "WHERE ts.ticker NOT IN (SELECT ticker FROM yahoo_finance.gold.ticker_gold);"
   ]
  },
  {
   "cell_type": "code",
   "execution_count": 0,
   "metadata": {
    "application/vnd.databricks.v1+cell": {
     "cellMetadata": {
      "byteLimit": 2048000,
      "implicitDf": true,
      "rowLimit": 10000
     },
     "inputWidgets": {},
     "nuid": "a96070d3-de3d-41f7-aedd-4bba94f36f66",
     "showTitle": false,
     "tableResultSettingsMap": {},
     "title": ""
    }
   },
   "outputs": [],
   "source": [
    "%sql\n",
    "INSERT INTO yahoo_finance.gold.finance_gold (ticker_id, date_id, datetime, close, high, low, open, volume)\n",
    "SELECT\n",
    "  tg.ticker_id,\n",
    "  f_s.date_id,\n",
    "  f_s.datetime,\n",
    "  f_s.close,\n",
    "  f_s.high,\n",
    "  f_s.low,\n",
    "  f_s.open,\n",
    "  f_s.`volume`\n",
    "FROM yahoo_finance.silver.finance_silver f_s\n",
    "LEFT OUTER JOIN yahoo_finance.gold.ticker_gold tg ON f_s.ticker = tg.ticker\n",
    "LEFT OUTER JOIN\n",
    "(SELECT l.ticker, MAX(l.last_loaded_date) AS last_loaded_date\n",
    "  FROM yahoo_finance.processrunlogs.processrunlog l \n",
    "  WHERE l.processname = 'process_gold_data' AND l.status = 'Completed'\n",
    "  GROUP BY l.ticker) l2\n",
    "  ON f_s.ticker = l2.ticker \n",
    "WHERE f_s.datetime > nvl(l2.last_loaded_date, '2025-01-01');"
   ]
  },
  {
   "cell_type": "code",
   "execution_count": 0,
   "metadata": {
    "application/vnd.databricks.v1+cell": {
     "cellMetadata": {
      "byteLimit": 2048000,
      "implicitDf": true,
      "rowLimit": 10000
     },
     "inputWidgets": {},
     "nuid": "ffbbc5cb-6454-4ee8-9ea9-b07a62b23e16",
     "showTitle": false,
     "tableResultSettingsMap": {},
     "title": ""
    }
   },
   "outputs": [],
   "source": [
    "%sql\n",
    "TRUNCATE TABLE yahoo_finance.gold.finance_gold_daily;\n",
    "INSeRT INTO yahoo_finance.gold.finance_gold_daily (ticker_id, year, month, week, date, min_of_open, max_of_close, max_of_high, min_of_low, avg_of_close, stddev_of_close, median_of_close, sum_of_volume)\n",
    "SELECT\n",
    "  fg.ticker_id,\n",
    "  dg.year,\n",
    "  dg.month,\n",
    "  dg.week,\n",
    "  dg.date,\n",
    "  MIN(fg.open) AS min_of_open,\n",
    "  MAX(fg.close) AS max_of_close,\n",
    "  MAX(fg.high) AS max_of_high,\n",
    "  MIN(fg.low) AS min_of_low,\n",
    "  AVG(fg.close) AS avg_of_close,\n",
    "  stddev(fg.close) AS stddev_of_close,\n",
    "  median(fg.close) AS median_of_close,\n",
    "  sum(fg.volume) AS sum_of_volume\n",
    "FROM\n",
    "  yahoo_finance.gold.finance_gold fg\n",
    "  INNER JOIN yahoo_finance.gold.date_gold dg ON fg.date_id = dg.date_id \n",
    "GROUP BY\n",
    "  fg.ticker_id,\n",
    "  dg.year,\n",
    "  dg.month,\n",
    "  dg.week,\n",
    "  dg.date;"
   ]
  },
  {
   "cell_type": "code",
   "execution_count": 0,
   "metadata": {
    "application/vnd.databricks.v1+cell": {
     "cellMetadata": {
      "byteLimit": 2048000,
      "implicitDf": true,
      "rowLimit": 10000
     },
     "inputWidgets": {},
     "nuid": "53236f36-0017-4bc7-bc72-720b04975aad",
     "showTitle": false,
     "tableResultSettingsMap": {},
     "title": ""
    }
   },
   "outputs": [],
   "source": [
    "%sql\n",
    "TRUNCATE TABLE yahoo_finance.gold.finance_gold_weekly;\n",
    "INSeRT INTO yahoo_finance.gold.finance_gold_weekly (ticker_id, year, month, week, min_of_open, max_of_close, max_of_high, min_of_low, avg_of_close, stddev_of_close, median_of_close, sum_of_volume)\n",
    "SELECT\n",
    "  fg.ticker_id,\n",
    "  dg.year,\n",
    "  dg.month,\n",
    "  dg.week,\n",
    "  MIN(fg.open) AS min_of_open,\n",
    "  MAX(fg.close) AS max_of_close,\n",
    "  MAX(fg.high) AS max_of_high,\n",
    "  MIN(fg.low) AS min_of_low,\n",
    "  AVG(fg.close) AS avg_of_close,\n",
    "  stddev(fg.close) AS stddev_of_close,\n",
    "  median(fg.close) AS median_of_close,\n",
    "  sum(fg.volume) AS sum_of_volume\n",
    "FROM\n",
    "  yahoo_finance.gold.finance_gold fg\n",
    "  INNER JOIN yahoo_finance.gold.date_gold dg ON fg.date_id = dg.date_id\n",
    "GROUP BY\n",
    "  fg.ticker_id,\n",
    "  dg.year,\n",
    "  dg.month,\n",
    "  dg.week;"
   ]
  },
  {
   "cell_type": "code",
   "execution_count": 0,
   "metadata": {
    "application/vnd.databricks.v1+cell": {
     "cellMetadata": {
      "byteLimit": 2048000,
      "implicitDf": true,
      "rowLimit": 10000
     },
     "inputWidgets": {},
     "nuid": "bda461bf-6bff-432b-8b2a-8410f236c0cb",
     "showTitle": false,
     "tableResultSettingsMap": {},
     "title": ""
    }
   },
   "outputs": [],
   "source": [
    "%sql\n",
    "TRUNCATE TABLE yahoo_finance.gold.finance_gold_monthly;\n",
    "INSeRT INTO yahoo_finance.gold.finance_gold_monthly (ticker_id, year, month, min_of_open, max_of_close, max_of_high, min_of_low, avg_of_close, stddev_of_close, median_of_close, sum_of_volume)\n",
    "SELECT\n",
    "  fg.ticker_id,\n",
    "  dg.year,\n",
    "  dg.month,\n",
    "  MIN(fg.open) AS min_of_open,\n",
    "  MAX(fg.close) AS max_of_close,\n",
    "  MAX(fg.high) AS max_of_high,\n",
    "  MIN(fg.low) AS min_of_low,\n",
    "  AVG(fg.close) AS avg_of_close,\n",
    "  stddev(fg.close) AS stddev_of_close,\n",
    "  median(fg.close) AS median_of_close,\n",
    "  sum(fg.volume) AS sum_of_volume\n",
    "FROM\n",
    "  yahoo_finance.gold.finance_gold fg\n",
    "  INNER JOIN yahoo_finance.gold.date_gold dg ON fg.date_id = dg.date_id\n",
    "GROUP BY\n",
    "  fg.ticker_id,\n",
    "  dg.year,\n",
    "  dg.month;"
   ]
  },
  {
   "cell_type": "code",
   "execution_count": 0,
   "metadata": {
    "application/vnd.databricks.v1+cell": {
     "cellMetadata": {
      "byteLimit": 2048000,
      "rowLimit": 10000
     },
     "inputWidgets": {},
     "nuid": "d034a0af-4bda-4a6e-be42-e82e7eff26bd",
     "showTitle": false,
     "tableResultSettingsMap": {},
     "title": ""
    }
   },
   "outputs": [],
   "source": [
    "# Get before_count - count of log rows before insertion of new rows\n",
    "before_count = spark.sql(\"\"\"\n",
    "SELECT COUNT(*) as cnt\n",
    "FROM yahoo_finance.processrunlogs.processrunlog\n",
    "WHERE processname = 'process_gold_data' AND status = 'Completed'\n",
    "\"\"\").collect()[0]['cnt']\n",
    "\n",
    "# Try inserting new log rows\n",
    "query_insert = f\"\"\"\n",
    "INSERT INTO yahoo_finance.processrunlogs.processrunlog \n",
    "(ticker, processname, last_loaded_date, startdate, enddate, status)\n",
    "SELECT \n",
    "    g.ticker, \n",
    "    'process_gold_data' AS processname, \n",
    "    max(f_g.datetime) AS last_loaded_date, \n",
    "    '{start_date_str}', \n",
    "    current_timestamp(), \n",
    "    'Completed'\n",
    "FROM yahoo_finance.gold.finance_gold f_g\n",
    "INNER JOIN yahoo_finance.gold.ticker_gold g \n",
    "    ON f_g.ticker_id = g.ticker_id\n",
    "LEFT OUTER JOIN (\n",
    "    SELECT l.ticker, MAX(l.last_loaded_date) AS last_loaded_date\n",
    "    FROM yahoo_finance.processrunlogs.processrunlog l \n",
    "    WHERE l.processname = 'process_gold_data' \n",
    "      AND l.status = 'Completed' \n",
    "      AND l.last_loaded_date IS NOT NULL\n",
    "    GROUP BY l.ticker\n",
    ") l2\n",
    "ON g.ticker = l2.ticker\n",
    "WHERE f_g.Datetime > nvl(l2.last_loaded_date, '2025-01-01')\n",
    "GROUP BY g.ticker\n",
    "\"\"\"\n",
    "spark.sql(query_insert)\n",
    "\n",
    "# Get after_count - count of log rows after insertion of new rows\n",
    "after_count = spark.sql(\"\"\"\n",
    "SELECT COUNT(*) as cnt\n",
    "FROM yahoo_finance.processrunlogs.processrunlog\n",
    "WHERE processname = 'process_gold_data' AND status = 'Completed'\n",
    "\"\"\").collect()[0]['cnt']\n",
    "\n",
    "# Insert NULL row if before_count == after_count to log that no new financials were loaded\n",
    "if before_count == after_count:\n",
    "    query_null = f\"\"\"\n",
    "    INSERT INTO yahoo_finance.processrunlogs.processrunlog \n",
    "    (ticker, processname, last_loaded_date, startdate, enddate, status)\n",
    "    VALUES (NULL, 'process_gold_data', NULL, '{start_date_str}', current_timestamp(), 'Completed')\n",
    "    \"\"\"\n",
    "    spark.sql(query_null)"
   ]
  }
 ],
 "metadata": {
  "application/vnd.databricks.v1+notebook": {
   "computePreferences": {
    "hardware": {
     "accelerator": null,
     "gpuPoolId": null,
     "memory": null
    }
   },
   "dashboards": [],
   "environmentMetadata": {
    "base_environment": "",
    "environment_version": "2"
   },
   "inputWidgetPreferences": null,
   "language": "python",
   "notebookMetadata": {
    "mostRecentlyExecutedCommandWithImplicitDF": {
     "commandId": 5394693132654846,
     "dataframes": [
      "_sqldf"
     ]
    },
    "pythonIndentUnit": 4
   },
   "notebookName": "YahooFinance_process_gold",
   "widgets": {}
  },
  "language_info": {
   "name": "python"
  }
 },
 "nbformat": 4,
 "nbformat_minor": 0
}
